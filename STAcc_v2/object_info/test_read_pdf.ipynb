{
 "cells": [
  {
   "cell_type": "code",
   "execution_count": 9,
   "id": "a40a3210-d0e0-4b59-adec-2649427f6576",
   "metadata": {},
   "outputs": [],
   "source": [
    "from read_pdf import *\n",
    "from PyPDF2 import PdfReader\n",
    "import re"
   ]
  },
  {
   "cell_type": "code",
   "execution_count": 10,
   "id": "e0039ef3-05f9-45f6-804b-4928e4be6021",
   "metadata": {},
   "outputs": [
    {
     "data": {
      "text/plain": [
       "['hypothesis μfp = \\n0.059 a',\n",
       " 'hypothesis with α = 0.05,',\n",
       " 'hypothesis test (0.03739)',\n",
       " 'hypothesis test which rec',\n",
       " 'hypothesis of this two -s',\n",
       " 'hypothesis test, since th',\n",
       " 'hypothesis designed to te',\n",
       " 'hypothesis?  \\nThis is a t',\n",
       " 'hypothesis since we are o',\n",
       " 'hypothesis test you propo',\n",
       " 'hypothesis: true differen',\n",
       " 'hypothesis that \\nthe aver']"
      ]
     },
     "execution_count": 10,
     "metadata": {},
     "output_type": "execute_result"
    }
   ],
   "source": [
    "Bob = StarTracker(datasheet=\"econ117-pset4-markdown.pdf\")\n",
    "TEST = Bob.extract_text_from_pdf()\n",
    "TEST_LIST = Bob.find_word_in_text(word=\"hypothesis\")\n",
    "TEST_LIST"
   ]
  },
  {
   "cell_type": "code",
   "execution_count": 11,
   "id": "c69f1105",
   "metadata": {},
   "outputs": [
    {
     "ename": "AttributeError",
     "evalue": "'StarTracker' object has no attribute 'accuracy'",
     "output_type": "error",
     "traceback": [
      "\u001b[1;31m---------------------------------------------------------------------------\u001b[0m",
      "\u001b[1;31mAttributeError\u001b[0m                            Traceback (most recent call last)",
      "Cell \u001b[1;32mIn[11], line 3\u001b[0m\n\u001b[0;32m      1\u001b[0m Joe \u001b[38;5;241m=\u001b[39m StarTracker()\n\u001b[0;32m      2\u001b[0m Joe\u001b[38;5;241m.\u001b[39mset_parameter_values()\n\u001b[1;32m----> 3\u001b[0m \u001b[43mJoe\u001b[49m\u001b[38;5;241;43m.\u001b[39;49m\u001b[43maccuracy\u001b[49m\n",
      "\u001b[1;31mAttributeError\u001b[0m: 'StarTracker' object has no attribute 'accuracy'"
     ]
    }
   ],
   "source": [
    "Joe = StarTracker()\n",
    "Joe.set_parameter_values()\n",
    "Joe.accuracy"
   ]
  },
  {
   "cell_type": "code",
   "execution_count": 13,
   "id": "0f810512",
   "metadata": {},
   "outputs": [
    {
     "name": "stdout",
     "output_type": "stream",
     "text": [
      "Aperture size could not be found in the provided text. Proofread the pdf to ensure it has the aperture information. If not, upload a new pdf. If it does, please input manually.\n",
      "Field of View 15º x 18º Rect\n"
     ]
    },
    {
     "data": {
      "text/plain": [
       "['15', '18']"
      ]
     },
     "execution_count": 13,
     "metadata": {},
     "output_type": "execute_result"
    }
   ],
   "source": [
    "Kevin = StarTracker(\"startracker1_datasheet.pdf\")\n",
    "Kevin.set_parameter_values()\n",
    "Kevin.fov"
   ]
  },
  {
   "cell_type": "code",
   "execution_count": 73,
   "id": "224629f7",
   "metadata": {},
   "outputs": [],
   "source": [
    "## NEED TO PASTE INTO READ_PDF. BOB WORKS.\n",
    "class StarTracker():\n",
    "    def __init__(self, datasheet):\n",
    "        try:\n",
    "            assert (type(datasheet) == str) | (datasheet == None), \"Input the filepath to your datasheet; must be a string.\"\n",
    "            self.datasheet = datasheet\n",
    "        except AssertionError as msg:\n",
    "            print(msg)\n",
    "        #try:\n",
    "            # check if path to file exists\n",
    "            #self.datasheet = \n",
    "\n",
    "    def extract_text_from_pdf(self):\n",
    "        '''\n",
    "        TODO: write docstring\n",
    "        '''\n",
    "        reader = PdfReader(self.datasheet)\n",
    "        number_of_pages = len(reader.pages)\n",
    "\n",
    "        pdf_text = \"\"\n",
    "\n",
    "        for i in range(number_of_pages):\n",
    "            page = reader.pages[i]\n",
    "            pdf_text += page.extract_text()\n",
    "            pdf_text += \"\\n\"\n",
    "        \n",
    "        self.datasheet_text = pdf_text\n",
    "\n",
    "        return self.datasheet_text\n",
    "    \n",
    "    def find_word_in_text(self, word, num_characters=15):\n",
    "        '''\n",
    "        Find occurrences of a word in a text, then return the word and a defined number of characters \n",
    "        following each occurrence.\n",
    "\n",
    "        Args:\n",
    "            word (str): The word to search for in the text\n",
    "            text (str): The text in which to search for the word\n",
    "            num_characters (int): The number of characters to extract after each occurrence of the word\n",
    "\n",
    "        Returns:\n",
    "            info_set (list): A list of extracted substrings, each containing the word and characters following it\n",
    "        '''\n",
    "        info_set = []\n",
    "        index = 0\n",
    "        text = self.datasheet_text\n",
    "        \n",
    "        while index < len(text):\n",
    "            found_index = text.find(word, index)  # Looks for a certain substring (word) within a longer string named text\n",
    "            if found_index == -1:\n",
    "                break\n",
    "            \n",
    "            start_index = found_index + len(word)\n",
    "            end_index = start_index + num_characters  # num_characters defines how many characters after the word it will look through/present to user\n",
    "            possible_info = text[start_index-len(word):end_index]  # prints the word you're looking for and the characters after it\n",
    "            info_set.append(possible_info)  # adds this result to a list\n",
    "                \n",
    "            index = end_index  # starts looking after the string it just printed\n",
    "\n",
    "        self.info_set = info_set\n",
    "\n",
    "        return self.info_set"
   ]
  },
  {
   "cell_type": "code",
   "execution_count": 102,
   "id": "07578c57",
   "metadata": {},
   "outputs": [],
   "source": [
    "## Joe works (defining startracker without datasheet input)\n",
    "## Kevin works except for aperture\n",
    "    ## TODO: find aperture size?\n",
    "\n",
    "class StarTracker():\n",
    "    def __init__(self, datasheet=None):\n",
    "        try:\n",
    "            assert (type(datasheet) == str) | (datasheet == None), \"Input the filepath to your datasheet; must be a string.\"\n",
    "            self.datasheet = datasheet\n",
    "        except AssertionError as msg:\n",
    "            print(msg)\n",
    "        #try:\n",
    "            # check if path to file exists\n",
    "            #self.datasheet = \n",
    "\n",
    "    def extract_text_from_pdf(self):\n",
    "        '''\n",
    "        TODO: write docstring\n",
    "        '''\n",
    "        reader = PdfReader(self.datasheet)\n",
    "        number_of_pages = len(reader.pages)\n",
    "\n",
    "        pdf_text = \"\"\n",
    "\n",
    "        for i in range(number_of_pages):\n",
    "            page = reader.pages[i]\n",
    "            pdf_text += page.extract_text()\n",
    "            pdf_text += \"\\n\"\n",
    "        \n",
    "        self.datasheet_text = pdf_text\n",
    "\n",
    "        return self.datasheet_text\n",
    "    \n",
    "    def find_word_in_text(self, word, num_characters=15):\n",
    "        '''\n",
    "        Find occurrences of a word in a text, then return the word and a defined number of characters \n",
    "        following each occurrence.\n",
    "\n",
    "        Args:\n",
    "            word (str): The word to search for in the text\n",
    "            text (str): The text in which to search for the word\n",
    "            num_characters (int): The number of characters to extract after each occurrence of the word\n",
    "\n",
    "        Returns:\n",
    "            info_set (list): A list of extracted substrings, each containing the word and characters following it\n",
    "        '''\n",
    "        info_set = []\n",
    "        index = 0\n",
    "        text = self.datasheet_text\n",
    "        \n",
    "        while index < len(text):\n",
    "            found_index = text.find(word, index)  # Looks for a certain substring (word) within a longer string named text\n",
    "            if found_index == -1:\n",
    "                break\n",
    "            \n",
    "            start_index = found_index + len(word)\n",
    "            end_index = start_index + num_characters  # num_characters defines how many characters after the word it will look through/present to user\n",
    "            possible_info = text[start_index-len(word):end_index]  # prints the word you're looking for and the characters after it\n",
    "            info_set.append(possible_info)  # adds this result to a list\n",
    "                \n",
    "            index = end_index  # starts looking after the string it just printed\n",
    "\n",
    "        self.info_set = info_set\n",
    "\n",
    "        return self.info_set\n",
    "    \n",
    "    def input_boolean_converter(self, prompt_message):\n",
    "        '''\n",
    "        TODO: docstring\n",
    "        '''\n",
    "        while True:\n",
    "            user_input = input(prompt_message).strip().lower()  # get user's input from prompt message\n",
    "            \n",
    "            if user_input == 'yes':\n",
    "                return True\n",
    "            elif user_input == 'no':\n",
    "                return False\n",
    "            else:\n",
    "                print(\"Please enter 'yes' or 'no'.\")\n",
    "\n",
    "    #result = input_boolean_converter(\"Enter 'yes' or 'no': \")\n",
    "    #print(\"You entered:\", result)\n",
    "\n",
    "\n",
    "    def parameter_value(self):\n",
    "        '''\n",
    "        TODO: docstring\n",
    "        '''\n",
    "        for value in self.info_set:\n",
    "            \n",
    "            print(value)\n",
    "            user_input = self.input_boolean_converter(f'Does this text look like it contains the proper information for a certain parameter? : {value}')\n",
    "            \n",
    "            if user_input:  # user_input is True if user entered yes\n",
    "                float_pattern = r'[-+]?\\d*\\.\\d+|\\d+'  # This pattern identifies both integer and floating-point numbers\n",
    "                float_values = re.findall(float_pattern, value)\n",
    "                \n",
    "                if float_values:\n",
    "                #    float_number = float(float_values[0])  # Convert the first matched value to a float\n",
    "                    \n",
    "                    return float_values  # Return the extracted float number\n",
    "                    \n",
    "        return \"No value was found. Try inputting your specifications manually.\"\n",
    "\n",
    "\n",
    "    def set_parameter_values(self):\n",
    "        '''\n",
    "        Define the attributes of the StarTracker class instance through detection from the input datasheet\n",
    "        or prompt the user to input star tracker parameters.\n",
    "        \n",
    "        Args:\n",
    "            self\n",
    "            \n",
    "        Returns: tuple of valid parameter values (integer or floats)\n",
    "            self.aperture: aperture size of star tracker (in [units])\n",
    "            self.fov: field of view of star tracker (in arcseconds)\n",
    "        '''\n",
    "        if self.datasheet:\n",
    "            self.extract_text_from_pdf()\n",
    "\n",
    "            self.find_word_in_text(word=\"aperture\")\n",
    "            if self.info_set == []:\n",
    "                self.find_word_in_text(word=\"Aperture\")\n",
    "                if self.info_set == []:\n",
    "                    print(\"Aperture size could not be found in the provided text. Proofread the pdf to ensure it has the aperture information. If not, upload a new pdf. If it does, please input manually.\")\n",
    "            \n",
    "            self.aperture = self.parameter_value()\n",
    "            \n",
    "            self.find_word_in_text(word=\"field of view\")\n",
    "            if self.info_set == []:\n",
    "                self.find_word_in_text(word=\"Field of View\")\n",
    "                if self.info_set == []:\n",
    "                    print(\"Field of view could not be found in the provided text. Proofread the pdf to ensure it has the field of view information. If not, upload a new pdf. If it does, please input manually.\")\n",
    "            \n",
    "            self.fov = self.parameter_value()\n",
    "\n",
    "# is this how to do this without pdf??\n",
    "        if self.datasheet == None:\n",
    "            prompt_messages = [\"Input the aperture of your startracker in [units]:\", \"Input the field of view of your startracker in arcseconds\"]\n",
    "            values = []\n",
    "            \n",
    "            for prompt in prompt_messages:\n",
    "                while True:\n",
    "                    user_input = input(prompt)\n",
    "                    \n",
    "                    try:\n",
    "                        value = float(user_input)  # Try converting input to float\n",
    "                        if value.is_integer():  # Check if the float is actually an integer\n",
    "                            value = int(value)  # Convert to int if it's an integer\n",
    "                        \n",
    "                        values.append(value)\n",
    "                        break\n",
    "                    \n",
    "                    except ValueError:\n",
    "                        print(\"Please enter an integer or float for the value of this parameter, in the units requested.\")\n",
    "            \n",
    "            self.aperture, self.fov = values\n",
    "\n",
    "        return self.aperture, self.fov\n",
    "\n"
   ]
  },
  {
   "cell_type": "code",
   "execution_count": 6,
   "id": "432c65e0-c3bc-468c-8f59-2a78e17f88e7",
   "metadata": {},
   "outputs": [],
   "source": [
    "TEST_LIST = find_word_in_text(\"DEVELOPMENT\", TEST)"
   ]
  },
  {
   "cell_type": "code",
   "execution_count": 8,
   "id": "96e2b4c7-5070-46d0-b114-3f157e917967",
   "metadata": {},
   "outputs": [
    {
     "name": "stdout",
     "output_type": "stream",
     "text": [
      "DEVELOPMENT\n",
      "DIVISION\n",
      "i5\n",
      "BI\n",
      "Please enter 'yes' or 'no'.\n"
     ]
    },
    {
     "data": {
      "text/plain": [
       "5.0"
      ]
     },
     "execution_count": 8,
     "metadata": {},
     "output_type": "execute_result"
    }
   ],
   "source": [
    "parameter_value(TEST_LIST)"
   ]
  },
  {
   "cell_type": "code",
   "execution_count": 9,
   "id": "ae37f218-8b45-4557-a551-21b7fe789a40",
   "metadata": {},
   "outputs": [],
   "source": [
    "from input_info import *"
   ]
  },
  {
   "cell_type": "code",
   "execution_count": 10,
   "id": "d0a961f3-25b1-4409-8e44-1792549ed2db",
   "metadata": {},
   "outputs": [
    {
     "data": {
      "text/plain": [
       "[78, 45]"
      ]
     },
     "execution_count": 10,
     "metadata": {},
     "output_type": "execute_result"
    }
   ],
   "source": [
    "prompts = [\"Input the aperture of your startracker in mm:\", \"Input the FOV of your startracker in arcseconds\"]\n",
    "input_parameter_values(prompts)"
   ]
  }
 ],
 "metadata": {
  "kernelspec": {
   "display_name": "a330",
   "language": "python",
   "name": "a330"
  },
  "language_info": {
   "codemirror_mode": {
    "name": "ipython",
    "version": 3
   },
   "file_extension": ".py",
   "mimetype": "text/x-python",
   "name": "python",
   "nbconvert_exporter": "python",
   "pygments_lexer": "ipython3",
   "version": "3.9.18"
  }
 },
 "nbformat": 4,
 "nbformat_minor": 5
}
