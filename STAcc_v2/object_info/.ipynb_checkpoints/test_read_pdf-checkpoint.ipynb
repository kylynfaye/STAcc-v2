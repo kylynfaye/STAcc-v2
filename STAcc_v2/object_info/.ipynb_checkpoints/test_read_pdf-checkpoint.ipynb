{
 "cells": [
  {
   "cell_type": "code",
   "execution_count": 5,
   "id": "a40a3210-d0e0-4b59-adec-2649427f6576",
   "metadata": {},
   "outputs": [],
   "source": [
    "from read_pdf import *"
   ]
  },
  {
   "cell_type": "code",
   "execution_count": 6,
   "id": "e0039ef3-05f9-45f6-804b-4928e4be6021",
   "metadata": {},
   "outputs": [],
   "source": [
    "TEST = extract_text_from_pdf(\"Media_Feedback_S24_Unsigned.pdf\")"
   ]
  },
  {
   "cell_type": "code",
   "execution_count": 10,
   "id": "432c65e0-c3bc-468c-8f59-2a78e17f88e7",
   "metadata": {},
   "outputs": [],
   "source": [
    "TEST_LIST = find_word_in_text(\"DEVELOPMENT\", TEST)"
   ]
  },
  {
   "cell_type": "code",
   "execution_count": 11,
   "id": "96e2b4c7-5070-46d0-b114-3f157e917967",
   "metadata": {},
   "outputs": [
    {
     "name": "stdout",
     "output_type": "stream",
     "text": [
      "DEVELOPMENT\n",
      "DIVISION\n",
      "i5\n",
      "BI\n"
     ]
    },
    {
     "name": "stdin",
     "output_type": "stream",
     "text": [
      "Does this text look like it contains the proper value for your chosen parameter? yes\n"
     ]
    },
    {
     "data": {
      "text/plain": [
       "5.0"
      ]
     },
     "execution_count": 11,
     "metadata": {},
     "output_type": "execute_result"
    }
   ],
   "source": [
    "parameter_value(TEST_LIST)"
   ]
  },
  {
   "cell_type": "code",
   "execution_count": 13,
   "id": "ae37f218-8b45-4557-a551-21b7fe789a40",
   "metadata": {},
   "outputs": [],
   "source": [
    "from input_info import *"
   ]
  },
  {
   "cell_type": "code",
   "execution_count": 15,
   "id": "d0a961f3-25b1-4409-8e44-1792549ed2db",
   "metadata": {},
   "outputs": [
    {
     "name": "stdin",
     "output_type": "stream",
     "text": [
      "Input the aperture of your startracker in mm: 34\n"
     ]
    },
    {
     "ename": "TypeError",
     "evalue": "unsupported operand type(s) for |: 'type' and 'type'",
     "output_type": "error",
     "traceback": [
      "\u001b[1;31m---------------------------------------------------------------------------\u001b[0m",
      "\u001b[1;31mTypeError\u001b[0m                                 Traceback (most recent call last)",
      "Cell \u001b[1;32mIn[15], line 2\u001b[0m\n\u001b[0;32m      1\u001b[0m prompts \u001b[38;5;241m=\u001b[39m [\u001b[38;5;124m\"\u001b[39m\u001b[38;5;124mInput the aperture of your startracker in mm:\u001b[39m\u001b[38;5;124m\"\u001b[39m, \u001b[38;5;124m\"\u001b[39m\u001b[38;5;124mInput the FOV of your startracker in arcseconds\u001b[39m\u001b[38;5;124m\"\u001b[39m]\n\u001b[1;32m----> 2\u001b[0m \u001b[43minput_parameter_values\u001b[49m\u001b[43m(\u001b[49m\u001b[43mprompts\u001b[49m\u001b[43m)\u001b[49m\n",
      "File \u001b[1;32m~\\ASTR330\\STAcc_v2\\STAcc_v2\\object_info\\input_info.py:8\u001b[0m, in \u001b[0;36minput_parameter_values\u001b[1;34m(prompt_messages)\u001b[0m\n\u001b[0;32m      6\u001b[0m for prompt in prompt_messages\n\u001b[0;32m      7\u001b[0m     user_input = input(prompt)\n\u001b[1;32m----> 8\u001b[0m     if type(user_input) == float | type(user_input) == int:\n\u001b[0;32m      9\u001b[0m         values.append(user_input)\n\u001b[0;32m     10\u001b[0m     else:\n",
      "\u001b[1;31mTypeError\u001b[0m: unsupported operand type(s) for |: 'type' and 'type'"
     ]
    }
   ],
   "source": [
    "prompts = [\"Input the aperture of your startracker in mm:\", \"Input the FOV of your startracker in arcseconds\"]\n",
    "input_parameter_values(prompts)"
   ]
  },
  {
   "cell_type": "code",
   "execution_count": null,
   "id": "57065a73-bab0-4cbf-93c8-9d67270f92ad",
   "metadata": {},
   "outputs": [],
   "source": []
  }
 ],
 "metadata": {
  "kernelspec": {
   "display_name": "a330",
   "language": "python",
   "name": "a330"
  },
  "language_info": {
   "codemirror_mode": {
    "name": "ipython",
    "version": 3
   },
   "file_extension": ".py",
   "mimetype": "text/x-python",
   "name": "python",
   "nbconvert_exporter": "python",
   "pygments_lexer": "ipython3",
   "version": "3.9.18"
  }
 },
 "nbformat": 4,
 "nbformat_minor": 5
}
